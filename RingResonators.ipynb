{
 "cells": [
  {
   "cell_type": "markdown",
   "metadata": {},
   "source": [
    "---\n",
    "\n",
    "<h1>Transmission, Group Delay, Dispersion in Single-Ring Optical Resonators and Add/Drop Filters</h1>\n",
    "from Otto Schwelb, 2004\n"
   ]
  },
  {
   "cell_type": "markdown",
   "metadata": {},
   "source": [
    "<h2>Equations and Parameters</h2>\n",
    "\n",
    "$\\gamma = 1-a^2 \\ll 1$ Fractional power loss of a coupler\n",
    "\n",
    "$a$ Loss in amplitude through a coupler per pass\n",
    "\n",
    "$a \\cong 1-\\frac{1}{2}\\gamma$\n",
    "\n",
    "$\\alpha$ Amplitude attenuation coefficient for losses (material, radiation, imperfections)\n",
    "\n",
    "$\\beta=k n_{\\mathit{eff}}$ Propagation constant\n",
    "\n",
    "$k=\\frac{2\\pi}{\\lambda}$ Vacuum wavenumber\n",
    "\n",
    "$L$ Entire resonator perimeter (coupler assumed no physical length)\n",
    "\n",
    "$e^{-(\\alpha+j\\beta)L}$ Transmission coefficient of feedback loop\n",
    "\n",
    "$\\Kappa = \\kappa^2$ Power coupling coefficient\n",
    "\n",
    "$1-\\Kappa = \\tau^2$\n",
    "\n",
    "$\\theta = \\beta L$ Round-trip phase shift\n",
    "\n",
    "$\\mathbf{b}=\\mathbf{S}\\mathbf{a}$ Relationship between incoming and outgoing wave amplitudes\n",
    "\n",
    "$\\mathbf{a}=[a_i]$ Incoming wave amplitudes\n",
    "\n",
    "$\\mathbf{b}=[b_i]$ Outgoing wave amplitudes\n",
    "\n",
    "$\\mathbf{S}$ Scattering Matrix"
   ]
  },
  {
   "cell_type": "markdown",
   "metadata": {},
   "source": [
    "%%html\n",
    "<img src=\"https://raw.githubusercontent.com/JezVillarde/Schwelb/71f4544181a5d5634ea83a2ef875d898cbe35669/AP.svg?sanitize=true\" />"
   ]
  },
  {
   "cell_type": "markdown",
   "metadata": {},
   "source": [
    "\n",
    "<h2> All-Pass/ Notch Filter Ring Resonator </h2>\n",
    "\n",
    "$S_{21}=|S_{21}|e^{j\\phi}$ Amplitude transmission factor\n",
    "\n",
    "$\\sigma = \\sqrt{1-\\gamma} e^{-\\alpha L}$ Overall amplitude loss in one turn\n",
    "\n",
    "<h3> Standard Ring Resonator </h3>\n",
    "\n",
    "$S_{21}=\\frac{b_2}{a_1}= a \\frac{\\tau-ae^{-(\\alpha+j\\beta)L}}{1-a\\tau e^{-(\\alpha+j\\beta)L}},\\quad\\text{where}~\\Kappa \\ll 1 $\n",
    "\n",
    "$|S_{21}|^2=a^2\\frac{\\tau^2+\\sigma^2-2\\sigma\\tau\\cos{\\theta}}{1+\\sigma^2\\tau^2-2\\sigma\\tau\\cos{\\theta}}$ Relative intensity transfer\n",
    "\n",
    "$\\phi=\\tan^{-1}{\\left(\\frac{\\sigma\\kappa^2\\sin{\\theta}}{(1+\\sigma^2)\\tau-\\sigma(2-\\kappa^2)\\cos{\\theta}}\\right)}$ Phase delay\n",
    "\n",
    "<h3> Cross Ring Resonator </h3>\n",
    "\n",
    "$S_{21}=\\frac{b_2}{a_1}= a \\frac{ae^{-(\\alpha+j\\beta)L}+j\\kappa}{1-ja\\kappa e^{-(\\alpha+j\\beta)L}},\\quad\\text{where}~1-\\Kappa \\ll 1 $\n",
    "\n",
    "$|S_{21}|^2=a^2\\frac{\\kappa^2+\\sigma^2-2\\sigma\\kappa\\sin{\\theta}}{1+\\sigma^2\\kappa^2-2\\sigma\\kappa\\sin{\\theta}}$ Relative intensity transfer\n",
    "\n",
    "$\\phi=\\tan^{-1}{\\left(\\frac{(1+\\sigma^2)\\kappa-\\sigma(2-\\tau^2)\\sin{\\theta}}{\\sigma\\tau^2\\cos{\\theta}}\\right)}$ Phase delay\n",
    "\n",
    "<h3> Resonance </h3>\n",
    "\n",
    "$N\\lambda_{\\mathit{wg}} = L,\\quad\\text{where}~N\\in\\Z$ Standard\n",
    "\n",
    "$(N+\\frac{1}{4})\\lambda_{\\mathit{wg}} = L,\\quad\\text{where}~N\\in\\Z$ Cross\n",
    "\n",
    "$\\lambda_{\\mathit{wg}}$ Guide wavelength\n",
    "\n",
    "$\\mathit{FSR}=\\frac{c}{n_g L}=\\frac{f_0}{N}=\\frac{1}{\\tau_0}$ Free spectral range\n",
    "\n",
    "$n_g=n_{\\mathit{eff}}+f_0(\\frac{dn_{\\mathit{eff}}}{df})_{f_0}$ Group index\n",
    "\n",
    "$\\tau_0$ Transit time through the ring\n",
    "\n",
    "$N$ Mode number\n",
    "\n",
    "$\\cos\\theta=1,\\quad\\lambda^{-1}=\\frac{N}{n_{\\mathit{eff}}L}$ Condition for resonance for standard\n",
    "\n",
    "${|S_{21}|_{f_0}^2}=a^2(\\frac{\\tau-\\sigma}{1-\\sigma\\tau})^2,\\quad\\text{where}~\\Kappa \\ll 1$ Minimum value at resonance for standard\n",
    "\n",
    "$\\kappa^2=\\Kappa_r=1-\\sigma^2$ Critical coupling for standard\n",
    "\n",
    "$\\sigma = \\tau_r$ Critical coupling for standard, fractional loss around the ring is equal to fractional loss through the coupler\n",
    "\n",
    "\n",
    "\n",
    "\n",
    "\n"
   ]
  },
  {
   "cell_type": "markdown",
   "metadata": {},
   "source": [
    "%%html\n",
    "<img src=\"https://raw.githubusercontent.com/JezVillarde/Schwelb/8d3bde528fa1350dc6d1f95ad9dd67a3fc5cff8a/AD.svg?sanitize=true\" />"
   ]
  },
  {
   "cell_type": "markdown",
   "metadata": {},
   "source": [
    "<h2> Add/Drop Ring Resonator </h2>\n",
    "\n",
    "$S_{21}=|S_{21}|e^{j\\phi}$\n",
    "\n",
    "$\\sigma=a^2 e^{-\\alpha L}$ Round-trip loss\n",
    "\n",
    "<h3> Standard Ring Resonator </h3>\n",
    "\n",
    "$S_{21}=a\\frac{\\tau_1-\\sigma\\tau_2 e^{-j\\beta L}}{1-G_{s} e^{-j\\beta L}},\\quad\\text{where}~\\Kappa_i \\ll 1 $\n",
    "\n",
    "$S_{31}=-\\frac{a^2\\kappa_1\\kappa_2 e^{-\\alpha l_2 e^{-j\\beta l_2}}}{1-G_{s} e^{-j\\beta L}}$\n",
    "\n",
    "$G_{s}=\\sigma\\tau_1\\tau_2$\n",
    "\n",
    "$|S_{21}|^2=a^2\\frac{\\tau_1^2+\\sigma^2\\tau_2^2-2G_{s}\\cos\\theta}{1+G_{s}^2-2G_{s}\\cos\\theta}$\n",
    "\n",
    "$|S_{31}|^2=\\frac{a^4\\kappa_1^2\\kappa_2^2 e^{-2\\alpha l_2}}{1+G_{s}^2-2G_{s}\\cos\\theta}$\n",
    "\n",
    "<h3> Cross Ring Resonator </h3>\n",
    "\n",
    "$S_{21}=ja\\frac{\\kappa_1+\\sigma\\kappa_2 e^{-j\\beta L}}{1+G_{c} e^{-j \\beta L}},\\quad\\text{where}~1-\\Kappa_i \\ll 1$\n",
    "\n",
    "$S_{31}=\\frac{a^2\\tau_1\\tau_2 e^{-\\alpha l_2} e^{-j\\beta l_2}}{1+G_{c} e^{-j\\beta L}}$\n",
    "\n",
    "$G_{c}=\\sigma\\kappa_1\\kappa_2$\n",
    "\n",
    "$|S_{21}|^2=a^2\\frac{\\kappa_1^2+\\sigma^2\\kappa_2^2+2G_{s}\\cos\\theta}{1+G_{s}^2+2G_{s}\\cos\\theta}$\n",
    "\n",
    "$|S_{31}|^2=\\frac{a^4\\tau_1^2\\tau_2^2 e^{-2\\alpha l_2}}{1+G_{s}^2+2G_{s}\\cos\\theta}$\n",
    "\n",
    "<h3> Resonance </h3>\n",
    "\n",
    "$\\beta L = 2N\\pi,\\quad\\text{where}~N\\in\\Z$ Standard\n",
    "\n",
    "$\\beta L = (2N+1)\\pi,\\quad\\text{where}~N\\in\\Z$ Cross\n",
    "\n",
    "\n"
   ]
  },
  {
   "cell_type": "code",
   "execution_count": 1,
   "metadata": {},
   "outputs": [],
   "source": [
    "import numpy as np\n",
    "import sympy as sy \n",
    "import matplotlib.pyplot as plt\n",
    "from matplotlib.offsetbox import AnchoredOffsetbox,TextArea\n",
    "from matplotlib.colors import Normalize\n",
    "import matplotlib.cm as cm\n",
    "# from scipy.signal import find_peaks"
   ]
  },
  {
   "cell_type": "code",
   "execution_count": 2,
   "metadata": {},
   "outputs": [],
   "source": [
    "th1,th2,th3,th4,th5,th6,th7,th8 = sy.symbols(\"\\\\theta_1:9\")\n",
    "t1,t2,t3,t4,t5,t6,t7,t8 = sy.symbols(\"t_1:9\")\n",
    "k1,k2,k3,k4,k5,k6,k7,k8 = sy.symbols(\"k_1:9\")\n",
    "a1,a2,a3,a4,a5,a6,a7,a8 = sy.symbols(\"a_1:9\")\n",
    "b1,b2,b3,b4,b5,b6,b7,b8 = sy.symbols(\"b_1:9\")\n",
    "c1,c2,c3,c4,c5,c6,c7,c8 = sy.symbols(\"c_1:9\")\n",
    "d1,d2,d3,d4,d5,d6,d7,d8 = sy.symbols(\"d_1:9\")\n",
    "L1,L2,L3,L4,L5,L6,L7,L8 = sy.symbols(\"L_1:9\")\n",
    "\n",
    "alp1,alp2,alp3,alp4,alp5,alp6,alp7,alp8 = sy.symbols(\"\\\\alpha_1:9\")\n",
    "beta1,beta2,beta3,beta4,beta5,beta6,beta7,beta8 = sy.symbols(\"\\\\beta_1:9\")\n",
    "\n",
    "j = sy.I\n",
    "Eri,Ero,Eui,Euo,Ei,Eo,E1,E2,E3,E4 = sy.symbols(\"E_{ri} E_{ro} E_{ui} E_{uo} E_i E_o E_1:5\")\n",
    "thr,thu,tha,thb,thc,thd = sy.symbols(\"\\\\theta_r \\\\theta_u \\\\theta_a \\\\theta_b \\\\theta_c \\\\theta_d\")\n",
    "\n",
    "eps = sy.symbols(\"\\\\epsilon\")\n",
    "\n",
    "expi = lambda ang: sy.exp(j*ang)\n",
    "expn = lambda x,y: sy.exp(-(x+j*y))\n",
    "\n",
    "um = 1e-6\n",
    "wvl = np.linspace(1.5*um,1.6*um,5000)\n",
    "betaval = lambda k,neff: k*neff\n",
    "kwvval = lambda w: 2*np.pi/w\n",
    "\n",
    "kval = lambda cp: np.sqrt(cp)\n",
    "tval = lambda cp: np.sqrt(1-cp)\n",
    "\n",
    "def tk(cp):\n",
    "    return (tval(cp),kval(cp))\n"
   ]
  },
  {
   "cell_type": "code",
   "execution_count": 7,
   "metadata": {},
   "outputs": [
    {
     "data": {
      "text/latex": [
       "$\\displaystyle \\frac{a_{1} \\left(- a_{1} e^{- L_{1} \\alpha_{1} - i L_{1} \\beta_{1}} + t_{1}\\right)}{- a_{1} t_{1} e^{- L_{1} \\alpha_{1} - i L_{1} \\beta_{1}} + 1}$"
      ],
      "text/plain": [
       "a_1*(-a_1*exp(-L_1*\\alpha_1 - I*L_1*\\beta_1) + t_1)/(-a_1*t_1*exp(-L_1*\\alpha_1 - I*L_1*\\beta_1) + 1)"
      ]
     },
     "execution_count": 7,
     "metadata": {},
     "output_type": "execute_result"
    }
   ],
   "source": [
    "AP = a1*(t1-a1*expn(alp1*L1,beta1*L1))/(1-a1*t1*expn(alp1*L1,beta1*L1))\n",
    "AP_eq = sy.lambdify([t1,a1,alp1,beta1,L1],AP)\n",
    "AP"
   ]
  },
  {
   "cell_type": "code",
   "execution_count": 4,
   "metadata": {},
   "outputs": [],
   "source": [
    "cp1 = 0.1\n",
    "\n",
    "alpha1 = 1000\n",
    "\n",
    "aloss = 0.999\n",
    "\n",
    "neff = 1.5\n",
    "\n",
    "total_lring1 = 103*um"
   ]
  },
  {
   "cell_type": "code",
   "execution_count": 5,
   "metadata": {},
   "outputs": [],
   "source": [
    "AP_response = AP_eq(tk(cp1)[0],aloss,alpha1,betaval(kwvval(wvl),neff),total_lring1)"
   ]
  },
  {
   "cell_type": "code",
   "execution_count": 6,
   "metadata": {},
   "outputs": [
    {
     "data": {
      "text/plain": [
       "(0.0, 1.0)"
      ]
     },
     "execution_count": 6,
     "metadata": {},
     "output_type": "execute_result"
    },
    {
     "data": {
      "image/png": "[encoded data removed]",
      "text/plain": [
       "<Figure size 1200x500 with 1 Axes>"
      ]
     },
     "metadata": {},
     "output_type": "display_data"
    }
   ],
   "source": [
    "fig,ax = plt.subplots(figsize = (12,5))\n",
    "ax.plot(wvl,np.abs(AP_response)**2,label=\"AP\")\n",
    "ax.set_ylim(0,1)"
   ]
  },
  {
   "cell_type": "code",
   "execution_count": null,
   "metadata": {},
   "outputs": [],
   "source": []
  }
 ],
 "metadata": {
  "kernelspec": {
   "display_name": "Python 3",
   "language": "python",
   "name": "python3"
  },
  "language_info": {
   "codemirror_mode": {
    "name": "ipython",
    "version": 3
   },
   "file_extension": ".py",
   "mimetype": "text/x-python",
   "name": "python",
   "nbconvert_exporter": "python",
   "pygments_lexer": "ipython3",
   "version": "3.11.4"
  }
 },
 "nbformat": 4,
 "nbformat_minor": 2
}
