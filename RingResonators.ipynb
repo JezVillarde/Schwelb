{
 "cells": [
  {
   "cell_type": "markdown",
   "metadata": {},
   "source": [
    "---\n",
    "\n",
    "<h1>Transmission, Group Delay, Dispersion in Single-Ring Optical Resonators and Add/Drop Filters</h1>\n",
    "from Otto Schwelb, 2004\n"
   ]
  },
  {
   "cell_type": "markdown",
   "metadata": {},
   "source": [
    "<h2>Equations and Parameters</h2>\n",
    "\n",
    "$\\gamma = 1-a^2$ Fractional power loss of a coupler\n",
    "\n",
    "$a$ Loss in amplitude through a coupler per pass\n",
    "\n",
    "$a \\cong 1-\\frac{1}{2}\\gamma \\ll 1$\n",
    "\n",
    "$\\alpha$ Amplitude attenuation coefficient for losses (material, radiation, imperfections)\n",
    "\n",
    "$\\beta=k n_{\\mathit{eff}}$ Propagation constant\n",
    "\n",
    "$k=\\frac{2\\pi}{\\lambda}$ Vacuum wavenumber\n",
    "\n",
    "$L$ Entire resonator perimeter (coupler assumed no physical length)\n",
    "\n",
    "$e^{-(\\alpha+j\\beta)L}$ Transmission coefficient of feedback loop\n",
    "\n",
    "$\\Kappa = \\kappa^2$ Power coupling coefficient\n",
    "\n",
    "$1-\\Kappa = \\tau^2$\n",
    "\n",
    "$\\theta = \\beta L$ Round-trip phase shift\n",
    "\n",
    "$\\sigma = \\sqrt{1-\\gamma} e^{-\\alpha L}$ Overall amplitude loss in one turn\n",
    "\n",
    "$\\mathbf{b}=\\mathbf{S}\\mathbf{a}$ Relationship between incoming and outgoing wave amplitudes\n",
    "\n",
    "$\\mathbf{a}=[a_i]$ Incoming wave amplitudes\n",
    "\n",
    "$\\mathbf{b}=[b_i]$ Outgoing wave amplitudes\n",
    "\n",
    "$\\mathbf{S}$ Scattering Matrix"
   ]
  },
  {
   "cell_type": "markdown",
   "metadata": {},
   "source": [
    "\n",
    "<h2> All-Pass/ Notch Filter Ring Resonator </h2>\n",
    "\n",
    "$S_{21}=|S_{21}|e^{j\\phi}$ Amplitude transmission factor\n",
    "\n",
    "<h3> Standard Ring Resonator </h3>\n",
    "\n",
    "$S_{21}=\\frac{b_2}{a_1}= a \\frac{\\tau-ae^{-(\\alpha+j\\beta)L}}{1-a\\tau e^{-(\\alpha+j\\beta)L}},\\quad\\text{where}~\\Kappa \\ll 1 $\n",
    "\n",
    "$|S_{21}|^2=a^2\\frac{\\tau^2+\\sigma^2-2\\sigma\\tau\\cos{\\theta}}{1+\\sigma^2\\tau^2-2\\sigma\\tau\\cos{\\theta}}$ Relative intensity transfer\n",
    "\n",
    "$\\phi=\\tan^{-1}{\\left(\\frac{\\sigma\\kappa^2\\sin{\\theta}}{(1+\\sigma^2)\\tau-\\sigma(2-\\kappa^2)\\cos{\\theta}}\\right)}$ Phase delay\n",
    "\n",
    "<h3> Cross Ring Resonator </h3>\n",
    "\n",
    "$S_{21}=\\frac{b_2}{a_1}= a \\frac{ae^{-(\\alpha+j\\beta)L}+j\\kappa}{1-ja\\kappa e^{-(\\alpha+j\\beta)L}},\\quad\\text{where}~1-\\Kappa \\ll 1 $\n",
    "\n",
    "$|S_{21}|^2=a^2\\frac{\\kappa^2+\\sigma^2-2\\sigma\\kappa\\sin{\\theta}}{1+\\sigma^2\\kappa^2-2\\sigma\\kappa\\sin{\\theta}}$ Relative intensity transfer\n",
    "\n",
    "$\\phi=\\tan^{-1}{\\left(\\frac{(1+\\sigma^2)\\kappa-\\sigma(2-\\tau^2)\\sin{\\theta}}{\\sigma\\tau^2\\cos{\\theta}}\\right)}$ Phase delay\n",
    "\n",
    "<h3> Resonance </h3>\n",
    "\n",
    "$N\\lambda_{\\mathit{wg}} = L,\\quad\\text{where}~N\\in\\Z$ Standard\n",
    "\n",
    "$(N+\\frac{1}{4})\\lambda_{\\mathit{wg}} = L,\\quad\\text{where}~N\\in\\Z$ Cross\n",
    "\n",
    "$\\lambda_{\\mathit{wg}}$ Guide wavelength\n",
    "\n",
    "$\\mathit{FSR}=\\frac{c}{n_g L}=\\frac{f_0}{N}=\\frac{1}{\\tau_0}$ Free spectral range\n",
    "\n",
    "$n_g=n_{\\mathit{eff}}+f_0(\\frac{dn_{\\mathit{eff}}}{df})_{f_0}$ Group index\n",
    "\n",
    "$\\tau_0$ Transit time through the ring\n",
    "\n",
    "$N$ Mode number\n",
    "\n",
    "$\\cos\\theta=1,\\quad\\lambda^{-1}=\\frac{N}{n_{\\mathit{eff}}L}$ Condition for resonance for standard\n",
    "\n",
    "\n",
    "\n",
    "\n",
    "\n"
   ]
  },
  {
   "cell_type": "code",
   "execution_count": null,
   "metadata": {},
   "outputs": [],
   "source": [
    "import numpy as np\n",
    "import sympy as sy\n",
    "import matplotlib.pyplot as plt\n",
    "from matplotlib.offsetbox import AnchoredOffsetbox,TextArea\n",
    "from matplotlib.colors import Normalize\n",
    "import matplotlib.cm as cm\n",
    "# from scipy.signal import find_peaks"
   ]
  },
  {
   "cell_type": "markdown",
   "metadata": {},
   "source": []
  }
 ],
 "metadata": {
  "kernelspec": {
   "display_name": "Python 3",
   "language": "python",
   "name": "python3"
  },
  "language_info": {
   "name": "python",
   "version": "3.11.4"
  }
 },
 "nbformat": 4,
 "nbformat_minor": 2
}
